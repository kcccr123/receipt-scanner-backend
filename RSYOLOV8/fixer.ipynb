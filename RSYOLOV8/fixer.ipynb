{
 "cells": [
  {
   "cell_type": "code",
   "execution_count": 1,
   "metadata": {},
   "outputs": [],
   "source": [
    "import os\n",
    "import cv2\n",
    "from fix_angle import fix_angle as fc\n",
    "from PIL import Image"
   ]
  },
  {
   "cell_type": "code",
   "execution_count": 2,
   "metadata": {},
   "outputs": [],
   "source": [
    "folder_path = r\"D:\\photos\\old\"\n",
    "save_dir = r\"D:\\photos\\processed_old\"\n",
    "success = 0\n",
    "fail = 0\n",
    "index = 0\n"
   ]
  },
  {
   "cell_type": "code",
   "execution_count": 3,
   "metadata": {},
   "outputs": [
    {
     "name": "stdout",
     "output_type": "stream",
     "text": [
      "Receipt not identified\n",
      "Receipt not identified\n",
      "Receipt not identified\n",
      "Receipt not identified\n",
      "Receipt not identified\n",
      "Receipt not identified\n",
      "Receipt not identified\n",
      "Receipt not identified\n",
      "Receipt not identified\n",
      "Receipt not identified\n",
      "Receipt not identified\n",
      "Receipt not identified\n",
      "Receipt not identified\n",
      "Receipt not identified\n",
      "Receipt not identified\n",
      "Receipt not identified\n",
      "Receipt not identified\n",
      "Total: 55\n",
      "success: 38\n",
      "failed: 17\n"
     ]
    }
   ],
   "source": [
    "for filename in os.listdir(folder_path):\n",
    "    index += 1\n",
    "    image_path = os.path.join(folder_path, filename)\n",
    "    image = cv2.imread(image_path)\n",
    "\n",
    "    processed = fc(image)\n",
    "\n",
    "    if processed.size == 0:\n",
    "        fail += 1\n",
    "    else:\n",
    "        success += 1\n",
    "        toSave = Image.fromarray(processed)\n",
    "        path = os.path.join(save_dir, f\"{index}.png\")\n",
    "        toSave.save(path)\n",
    "\n",
    "print(f\"Total: {index}\")\n",
    "print(f\"success: {success}\")\n",
    "print(f\"failed: {fail}\")"
   ]
  }
 ],
 "metadata": {
  "kernelspec": {
   "display_name": "scannerCRNN",
   "language": "python",
   "name": "python3"
  },
  "language_info": {
   "codemirror_mode": {
    "name": "ipython",
    "version": 3
   },
   "file_extension": ".py",
   "mimetype": "text/x-python",
   "name": "python",
   "nbconvert_exporter": "python",
   "pygments_lexer": "ipython3",
   "version": "3.11.9"
  }
 },
 "nbformat": 4,
 "nbformat_minor": 2
}
