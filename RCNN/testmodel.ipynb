{
 "cells": [
  {
   "cell_type": "code",
   "execution_count": 1,
   "metadata": {},
   "outputs": [],
   "source": [
    "import os\n",
    "import time\n",
    "import typing\n",
    "import torch\n",
    "import cv2\n",
    "import numpy as np\n",
    "import onnxruntime as ort\n",
    "from collections import deque\n",
    "from modelArc import CRNN\n",
    "from itertools import groupby"
   ]
  },
  {
   "cell_type": "code",
   "execution_count": null,
   "metadata": {},
   "outputs": [],
   "source": [
    "\n",
    "from mltu.inferenceModel import OnnxInferenceModel\n",
    "from mltu.utils.text_utils import ctc_decoder, get_cer\n",
    "\n",
    "model_path = r\"D:\\Projects\\reciept-scanner\\RCNN\\models\\202407310100\\model.onnx\"\n",
    "val_path = r\"D:\\Projects\\reciept-scanner\\RCNN\\models\\202407310100\\val.csv\"\n",
    "\n",
    "class ImageToWordModel(OnnxInferenceModel):\n",
    "    def __init__(self, *args, **kwargs):\n",
    "        super().__init__(*args, **kwargs)\n",
    "\n",
    "    def predict(self, image: np.ndarray):\n",
    "        image = cv2.resize(image, (128, 32))\n",
    "\n",
    "        image_pred = np.expand_dims(image, axis=0).astype(np.float32)\n",
    "\n",
    "        preds = self.model.run(self.output_names, {self.input_names[0]: image_pred})[0]\n",
    "\n",
    "        text = ctc_decoder(preds, self.metadata[\"vocab\"])[0]\n",
    "\n",
    "        return text\n",
    "\n",
    "if __name__ == \"__main__\":\n",
    "    import pandas as pd\n",
    "    from tqdm import tqdm\n",
    "\n",
    "    model = ImageToWordModel(model_path=model_path)\n",
    "\n",
    "    df = pd.read_csv(val_path).values.tolist()\n",
    "\n",
    "    accum_cer = []\n",
    "    for image_path, label in tqdm(df):\n",
    "        image = cv2.imread(image_path.replace(\"\\\\\", \"/\"))\n",
    "\n",
    "        prediction_text = model.predict(image)\n",
    "\n",
    "        cer = get_cer(prediction_text, label)\n",
    "        print(f\"Image: {image_path}, Label: {label}, Prediction: {prediction_text}, CER: {cer}\")\n",
    "\n",
    "        accum_cer.append(cer)\n",
    "\n",
    "    print(f\"Average CER: {np.average(accum_cer)}\")\n"
   ]
  },
  {
   "cell_type": "code",
   "execution_count": 7,
   "metadata": {},
   "outputs": [
    {
     "name": "stdout",
     "output_type": "stream",
     "text": [
      "Prediction is: T0 26, Image Path: D:\\photos\\RCNN4\\BBOXES\\69.jpg\n"
     ]
    }
   ],
   "source": [
    "model_path = r\"D:\\Projects\\reciept-scanner\\RCNN\\models\\202407310100\\model.onnx\"\n",
    "img_path = r\"D:\\photos\\RCNN4\\BBOXES\\69.jpg\"\n",
    "#\"D:\\photos\\SORIE\\test\\0afc0804-7e6e-4e77-ab68-8d9384918be7.jpg\"\n",
    "\n",
    "class inferencemode:\n",
    "    def __init__(self, model_path: str = \"\"):\n",
    "        self.model_path = model_path.replace(\"\\\\\", \"/\")\n",
    "        providers = [\"CUDAExecutionProvider\", \"CPUExecutionProvider\"] if ort.get_device() == \"GPU\" else [\"CPUExecutionProvider\"]\n",
    "\n",
    "        self.model = ort.InferenceSession(model_path, providers = providers)\n",
    "\n",
    "        self.metadata = {}\n",
    "        for key, value in self.model.get_modelmeta().custom_metadata_map.items():\n",
    "            new_value = value\n",
    "            self.metadata[key] = new_value\n",
    "\n",
    "        self.input_shapes = [meta.shape for meta in self.model.get_inputs()]\n",
    "        self.input_names = [meta.name for meta in self.model._inputs_meta]\n",
    "        self.output_names = [meta.name for meta in self.model._outputs_meta]\n",
    "\n",
    "    def predict(self, image: np.ndarray):\n",
    "        image = cv2.resize(image, (128, 32))\n",
    "\n",
    "        image_pred = np.expand_dims(image, axis=0).astype(np.float32)\n",
    "\n",
    "        preds = self.model.run(self.output_names, {self.input_names[0]: image_pred})[0]\n",
    "\n",
    "        #highest prob\n",
    "        argmax_preds = np.argmax(preds, axis=-1)\n",
    "        grouped_preds = [[k for k,_ in groupby(preds)] for preds in argmax_preds]\n",
    "        texts = [\"\".join([self.metadata[\"vocab\"][k] for k in group if k < len(self.metadata[\"vocab\"])]) for group in grouped_preds]\n",
    "        text = texts[0]\n",
    "\n",
    "        return text\n",
    "\n",
    "\n",
    "\n",
    "model = inferencemode(model_path)\n",
    "\n",
    "image = cv2.imread(img_path.replace(\"\\\\\", \"/\"))\n",
    "\n",
    "prediction_text = model.predict(image)\n",
    "\n",
    "print(f\"Prediction is: {prediction_text}, Image Path: {img_path}\")\n"
   ]
  }
 ],
 "metadata": {
  "kernelspec": {
   "display_name": "scannerCRNN",
   "language": "python",
   "name": "python3"
  },
  "language_info": {
   "codemirror_mode": {
    "name": "ipython",
    "version": 3
   },
   "file_extension": ".py",
   "mimetype": "text/x-python",
   "name": "python",
   "nbconvert_exporter": "python",
   "pygments_lexer": "ipython3",
   "version": "3.11.9"
  }
 },
 "nbformat": 4,
 "nbformat_minor": 2
}
